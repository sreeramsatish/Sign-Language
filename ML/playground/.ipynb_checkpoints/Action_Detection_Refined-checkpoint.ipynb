{
 "cells": [
  {
   "cell_type": "markdown",
   "metadata": {},
   "source": [
    "# 1. Import and Install Dependencies"
   ]
  },
  {
   "cell_type": "code",
   "execution_count": null,
   "metadata": {},
   "outputs": [],
   "source": [
    "%pip install tensorflow==2.4.1 tensorflow-gpu==2.4.1 opencv-python mediapipe sklearn matplotlib"
   ]
  },
  {
   "cell_type": "code",
   "execution_count": 1,
   "metadata": {},
   "outputs": [],
   "source": [
    "import cv2\n",
    "import numpy as np\n",
    "import os\n",
    "from matplotlib import pyplot as plt\n",
    "import mediapipe as mp"
   ]
  },
  {
   "cell_type": "markdown",
   "metadata": {},
   "source": [
    "# 2. Keypoints using MP Holistic"
   ]
  },
  {
   "cell_type": "code",
   "execution_count": 2,
   "metadata": {},
   "outputs": [],
   "source": [
    "mp_holistic = mp.solutions.holistic # Holistic model\n",
    "mp_drawing = mp.solutions.drawing_utils # Drawing utilities"
   ]
  },
  {
   "cell_type": "code",
   "execution_count": 3,
   "metadata": {},
   "outputs": [],
   "source": [
    "def mediapipe_detection(image, model):\n",
    "    image = cv2.cvtColor(image, cv2.COLOR_BGR2RGB) # COLOR CONVERSION BGR 2 RGB\n",
    "    image.flags.writeable = False                  # Image is no longer writeable\n",
    "    results = model.process(image)                 # Make prediction\n",
    "    image.flags.writeable = True                   # Image is now writeable \n",
    "    image = cv2.cvtColor(image, cv2.COLOR_RGB2BGR) # COLOR COVERSION RGB 2 BGR\n",
    "    return image, results"
   ]
  },
  {
   "cell_type": "code",
   "execution_count": 4,
   "metadata": {},
   "outputs": [],
   "source": [
    "def draw_landmarks(image, results):\n",
    "    mp_drawing.draw_landmarks(image, results.face_landmarks, mp_holistic.FACE_CONNECTIONS) # Draw face connections\n",
    "    mp_drawing.draw_landmarks(image, results.pose_landmarks, mp_holistic.POSE_CONNECTIONS) # Draw pose connections\n",
    "    mp_drawing.draw_landmarks(image, results.left_hand_landmarks, mp_holistic.HAND_CONNECTIONS) # Draw left hand connections\n",
    "    mp_drawing.draw_landmarks(image, results.right_hand_landmarks, mp_holistic.HAND_CONNECTIONS) # Draw right hand connections"
   ]
  },
  {
   "cell_type": "code",
   "execution_count": 5,
   "metadata": {},
   "outputs": [],
   "source": [
    "def draw_styled_landmarks(image, results):\n",
    "    # Draw face connections\n",
    "    mp_drawing.draw_landmarks(image, results.face_landmarks, mp_holistic.FACE_CONNECTIONS, \n",
    "                             mp_drawing.DrawingSpec(color=(80,110,10), thickness=1, circle_radius=1), \n",
    "                             mp_drawing.DrawingSpec(color=(80,256,121), thickness=1, circle_radius=1)\n",
    "                             ) \n",
    "    # Draw pose connections\n",
    "    mp_drawing.draw_landmarks(image, results.pose_landmarks, mp_holistic.POSE_CONNECTIONS,\n",
    "                             mp_drawing.DrawingSpec(color=(80,22,10), thickness=2, circle_radius=4), \n",
    "                             mp_drawing.DrawingSpec(color=(80,44,121), thickness=2, circle_radius=2)\n",
    "                             ) \n",
    "    # Draw left hand connections\n",
    "    mp_drawing.draw_landmarks(image, results.left_hand_landmarks, mp_holistic.HAND_CONNECTIONS, \n",
    "                             mp_drawing.DrawingSpec(color=(121,22,76), thickness=2, circle_radius=4), \n",
    "                             mp_drawing.DrawingSpec(color=(121,44,250), thickness=2, circle_radius=2)\n",
    "                             ) \n",
    "    # Draw right hand connections  \n",
    "    mp_drawing.draw_landmarks(image, results.right_hand_landmarks, mp_holistic.HAND_CONNECTIONS, \n",
    "                             mp_drawing.DrawingSpec(color=(245,117,66), thickness=2, circle_radius=4), \n",
    "                             mp_drawing.DrawingSpec(color=(245,66,230), thickness=2, circle_radius=2)\n",
    "                             ) "
   ]
  },
  {
   "cell_type": "code",
   "execution_count": 6,
   "metadata": {},
   "outputs": [
    {
     "name": "stdout",
     "output_type": "stream",
     "text": [
      "<class 'mediapipe.python.solution_base.SolutionOutputs'>\n",
      "<class 'mediapipe.python.solution_base.SolutionOutputs'>\n",
      "<class 'mediapipe.python.solution_base.SolutionOutputs'>\n",
      "<class 'mediapipe.python.solution_base.SolutionOutputs'>\n",
      "<class 'mediapipe.python.solution_base.SolutionOutputs'>\n",
      "<class 'mediapipe.python.solution_base.SolutionOutputs'>\n",
      "<class 'mediapipe.python.solution_base.SolutionOutputs'>\n",
      "<class 'mediapipe.python.solution_base.SolutionOutputs'>\n",
      "<class 'mediapipe.python.solution_base.SolutionOutputs'>\n",
      "<class 'mediapipe.python.solution_base.SolutionOutputs'>\n",
      "<class 'mediapipe.python.solution_base.SolutionOutputs'>\n",
      "<class 'mediapipe.python.solution_base.SolutionOutputs'>\n",
      "<class 'mediapipe.python.solution_base.SolutionOutputs'>\n",
      "<class 'mediapipe.python.solution_base.SolutionOutputs'>\n",
      "<class 'mediapipe.python.solution_base.SolutionOutputs'>\n",
      "<class 'mediapipe.python.solution_base.SolutionOutputs'>\n",
      "<class 'mediapipe.python.solution_base.SolutionOutputs'>\n",
      "<class 'mediapipe.python.solution_base.SolutionOutputs'>\n",
      "<class 'mediapipe.python.solution_base.SolutionOutputs'>\n",
      "<class 'mediapipe.python.solution_base.SolutionOutputs'>\n",
      "<class 'mediapipe.python.solution_base.SolutionOutputs'>\n",
      "<class 'mediapipe.python.solution_base.SolutionOutputs'>\n",
      "<class 'mediapipe.python.solution_base.SolutionOutputs'>\n",
      "<class 'mediapipe.python.solution_base.SolutionOutputs'>\n",
      "<class 'mediapipe.python.solution_base.SolutionOutputs'>\n",
      "<class 'mediapipe.python.solution_base.SolutionOutputs'>\n",
      "<class 'mediapipe.python.solution_base.SolutionOutputs'>\n",
      "<class 'mediapipe.python.solution_base.SolutionOutputs'>\n",
      "<class 'mediapipe.python.solution_base.SolutionOutputs'>\n",
      "<class 'mediapipe.python.solution_base.SolutionOutputs'>\n",
      "<class 'mediapipe.python.solution_base.SolutionOutputs'>\n",
      "<class 'mediapipe.python.solution_base.SolutionOutputs'>\n",
      "<class 'mediapipe.python.solution_base.SolutionOutputs'>\n",
      "<class 'mediapipe.python.solution_base.SolutionOutputs'>\n",
      "<class 'mediapipe.python.solution_base.SolutionOutputs'>\n",
      "<class 'mediapipe.python.solution_base.SolutionOutputs'>\n",
      "<class 'mediapipe.python.solution_base.SolutionOutputs'>\n",
      "<class 'mediapipe.python.solution_base.SolutionOutputs'>\n",
      "<class 'mediapipe.python.solution_base.SolutionOutputs'>\n",
      "<class 'mediapipe.python.solution_base.SolutionOutputs'>\n",
      "<class 'mediapipe.python.solution_base.SolutionOutputs'>\n",
      "<class 'mediapipe.python.solution_base.SolutionOutputs'>\n",
      "<class 'mediapipe.python.solution_base.SolutionOutputs'>\n",
      "<class 'mediapipe.python.solution_base.SolutionOutputs'>\n",
      "<class 'mediapipe.python.solution_base.SolutionOutputs'>\n",
      "<class 'mediapipe.python.solution_base.SolutionOutputs'>\n",
      "<class 'mediapipe.python.solution_base.SolutionOutputs'>\n",
      "<class 'mediapipe.python.solution_base.SolutionOutputs'>\n",
      "<class 'mediapipe.python.solution_base.SolutionOutputs'>\n",
      "<class 'mediapipe.python.solution_base.SolutionOutputs'>\n",
      "<class 'mediapipe.python.solution_base.SolutionOutputs'>\n",
      "<class 'mediapipe.python.solution_base.SolutionOutputs'>\n",
      "<class 'mediapipe.python.solution_base.SolutionOutputs'>\n",
      "<class 'mediapipe.python.solution_base.SolutionOutputs'>\n",
      "<class 'mediapipe.python.solution_base.SolutionOutputs'>\n",
      "<class 'mediapipe.python.solution_base.SolutionOutputs'>\n",
      "<class 'mediapipe.python.solution_base.SolutionOutputs'>\n",
      "<class 'mediapipe.python.solution_base.SolutionOutputs'>\n",
      "<class 'mediapipe.python.solution_base.SolutionOutputs'>\n",
      "<class 'mediapipe.python.solution_base.SolutionOutputs'>\n",
      "<class 'mediapipe.python.solution_base.SolutionOutputs'>\n",
      "<class 'mediapipe.python.solution_base.SolutionOutputs'>\n",
      "<class 'mediapipe.python.solution_base.SolutionOutputs'>\n",
      "<class 'mediapipe.python.solution_base.SolutionOutputs'>\n",
      "<class 'mediapipe.python.solution_base.SolutionOutputs'>\n",
      "<class 'mediapipe.python.solution_base.SolutionOutputs'>\n",
      "<class 'mediapipe.python.solution_base.SolutionOutputs'>\n",
      "<class 'mediapipe.python.solution_base.SolutionOutputs'>\n",
      "<class 'mediapipe.python.solution_base.SolutionOutputs'>\n",
      "<class 'mediapipe.python.solution_base.SolutionOutputs'>\n",
      "<class 'mediapipe.python.solution_base.SolutionOutputs'>\n",
      "<class 'mediapipe.python.solution_base.SolutionOutputs'>\n",
      "<class 'mediapipe.python.solution_base.SolutionOutputs'>\n",
      "<class 'mediapipe.python.solution_base.SolutionOutputs'>\n",
      "<class 'mediapipe.python.solution_base.SolutionOutputs'>\n",
      "<class 'mediapipe.python.solution_base.SolutionOutputs'>\n",
      "<class 'mediapipe.python.solution_base.SolutionOutputs'>\n",
      "<class 'mediapipe.python.solution_base.SolutionOutputs'>\n",
      "<class 'mediapipe.python.solution_base.SolutionOutputs'>\n",
      "<class 'mediapipe.python.solution_base.SolutionOutputs'>\n",
      "<class 'mediapipe.python.solution_base.SolutionOutputs'>\n",
      "<class 'mediapipe.python.solution_base.SolutionOutputs'>\n",
      "<class 'mediapipe.python.solution_base.SolutionOutputs'>\n",
      "<class 'mediapipe.python.solution_base.SolutionOutputs'>\n",
      "<class 'mediapipe.python.solution_base.SolutionOutputs'>\n",
      "<class 'mediapipe.python.solution_base.SolutionOutputs'>\n",
      "<class 'mediapipe.python.solution_base.SolutionOutputs'>\n",
      "<class 'mediapipe.python.solution_base.SolutionOutputs'>\n",
      "<class 'mediapipe.python.solution_base.SolutionOutputs'>\n",
      "<class 'mediapipe.python.solution_base.SolutionOutputs'>\n",
      "<class 'mediapipe.python.solution_base.SolutionOutputs'>\n",
      "<class 'mediapipe.python.solution_base.SolutionOutputs'>\n",
      "<class 'mediapipe.python.solution_base.SolutionOutputs'>\n",
      "<class 'mediapipe.python.solution_base.SolutionOutputs'>\n",
      "<class 'mediapipe.python.solution_base.SolutionOutputs'>\n",
      "<class 'mediapipe.python.solution_base.SolutionOutputs'>\n",
      "<class 'mediapipe.python.solution_base.SolutionOutputs'>\n",
      "<class 'mediapipe.python.solution_base.SolutionOutputs'>\n",
      "<class 'mediapipe.python.solution_base.SolutionOutputs'>\n",
      "<class 'mediapipe.python.solution_base.SolutionOutputs'>\n",
      "<class 'mediapipe.python.solution_base.SolutionOutputs'>\n",
      "<class 'mediapipe.python.solution_base.SolutionOutputs'>\n",
      "<class 'mediapipe.python.solution_base.SolutionOutputs'>\n",
      "<class 'mediapipe.python.solution_base.SolutionOutputs'>\n",
      "<class 'mediapipe.python.solution_base.SolutionOutputs'>\n",
      "<class 'mediapipe.python.solution_base.SolutionOutputs'>\n",
      "<class 'mediapipe.python.solution_base.SolutionOutputs'>\n",
      "<class 'mediapipe.python.solution_base.SolutionOutputs'>\n",
      "<class 'mediapipe.python.solution_base.SolutionOutputs'>\n",
      "<class 'mediapipe.python.solution_base.SolutionOutputs'>\n",
      "<class 'mediapipe.python.solution_base.SolutionOutputs'>\n",
      "<class 'mediapipe.python.solution_base.SolutionOutputs'>\n",
      "<class 'mediapipe.python.solution_base.SolutionOutputs'>\n",
      "<class 'mediapipe.python.solution_base.SolutionOutputs'>\n",
      "<class 'mediapipe.python.solution_base.SolutionOutputs'>\n",
      "<class 'mediapipe.python.solution_base.SolutionOutputs'>\n",
      "<class 'mediapipe.python.solution_base.SolutionOutputs'>\n",
      "<class 'mediapipe.python.solution_base.SolutionOutputs'>\n",
      "<class 'mediapipe.python.solution_base.SolutionOutputs'>\n",
      "<class 'mediapipe.python.solution_base.SolutionOutputs'>\n",
      "<class 'mediapipe.python.solution_base.SolutionOutputs'>\n",
      "<class 'mediapipe.python.solution_base.SolutionOutputs'>\n",
      "<class 'mediapipe.python.solution_base.SolutionOutputs'>\n",
      "<class 'mediapipe.python.solution_base.SolutionOutputs'>\n",
      "<class 'mediapipe.python.solution_base.SolutionOutputs'>\n",
      "<class 'mediapipe.python.solution_base.SolutionOutputs'>\n",
      "<class 'mediapipe.python.solution_base.SolutionOutputs'>\n",
      "<class 'mediapipe.python.solution_base.SolutionOutputs'>\n",
      "<class 'mediapipe.python.solution_base.SolutionOutputs'>\n",
      "<class 'mediapipe.python.solution_base.SolutionOutputs'>\n",
      "<class 'mediapipe.python.solution_base.SolutionOutputs'>\n",
      "<class 'mediapipe.python.solution_base.SolutionOutputs'>\n",
      "<class 'mediapipe.python.solution_base.SolutionOutputs'>\n",
      "<class 'mediapipe.python.solution_base.SolutionOutputs'>\n",
      "<class 'mediapipe.python.solution_base.SolutionOutputs'>\n",
      "<class 'mediapipe.python.solution_base.SolutionOutputs'>\n",
      "<class 'mediapipe.python.solution_base.SolutionOutputs'>\n",
      "<class 'mediapipe.python.solution_base.SolutionOutputs'>\n",
      "<class 'mediapipe.python.solution_base.SolutionOutputs'>\n",
      "<class 'mediapipe.python.solution_base.SolutionOutputs'>\n",
      "<class 'mediapipe.python.solution_base.SolutionOutputs'>\n",
      "<class 'mediapipe.python.solution_base.SolutionOutputs'>\n",
      "<class 'mediapipe.python.solution_base.SolutionOutputs'>\n",
      "<class 'mediapipe.python.solution_base.SolutionOutputs'>\n",
      "<class 'mediapipe.python.solution_base.SolutionOutputs'>\n",
      "<class 'mediapipe.python.solution_base.SolutionOutputs'>\n",
      "<class 'mediapipe.python.solution_base.SolutionOutputs'>\n",
      "<class 'mediapipe.python.solution_base.SolutionOutputs'>\n",
      "<class 'mediapipe.python.solution_base.SolutionOutputs'>\n",
      "<class 'mediapipe.python.solution_base.SolutionOutputs'>\n",
      "<class 'mediapipe.python.solution_base.SolutionOutputs'>\n",
      "<class 'mediapipe.python.solution_base.SolutionOutputs'>\n",
      "<class 'mediapipe.python.solution_base.SolutionOutputs'>\n",
      "<class 'mediapipe.python.solution_base.SolutionOutputs'>\n",
      "<class 'mediapipe.python.solution_base.SolutionOutputs'>\n",
      "<class 'mediapipe.python.solution_base.SolutionOutputs'>\n",
      "<class 'mediapipe.python.solution_base.SolutionOutputs'>\n",
      "<class 'mediapipe.python.solution_base.SolutionOutputs'>\n",
      "<class 'mediapipe.python.solution_base.SolutionOutputs'>\n",
      "<class 'mediapipe.python.solution_base.SolutionOutputs'>\n",
      "<class 'mediapipe.python.solution_base.SolutionOutputs'>\n",
      "<class 'mediapipe.python.solution_base.SolutionOutputs'>\n",
      "<class 'mediapipe.python.solution_base.SolutionOutputs'>\n",
      "<class 'mediapipe.python.solution_base.SolutionOutputs'>\n",
      "<class 'mediapipe.python.solution_base.SolutionOutputs'>\n",
      "<class 'mediapipe.python.solution_base.SolutionOutputs'>\n",
      "<class 'mediapipe.python.solution_base.SolutionOutputs'>\n",
      "<class 'mediapipe.python.solution_base.SolutionOutputs'>\n",
      "<class 'mediapipe.python.solution_base.SolutionOutputs'>\n"
     ]
    }
   ],
   "source": [
    "cap = cv2.VideoCapture(0)\n",
    "# Set mediapipe model \n",
    "with mp_holistic.Holistic(min_detection_confidence=0.5, min_tracking_confidence=0.5) as holistic:\n",
    "    while cap.isOpened():\n",
    "\n",
    "        # Read feed\n",
    "        ret, frame = cap.read()\n",
    "\n",
    "        # Make detections\n",
    "        image, results = mediapipe_detection(frame, holistic)\n",
    "        print(results)\n",
    "        \n",
    "        # Draw landmarks\n",
    "        draw_styled_landmarks(image, results)\n",
    "\n",
    "        # Show to screen\n",
    "        cv2.imshow('OpenCV Feed', image)\n",
    "\n",
    "        # Break gracefully\n",
    "        if cv2.waitKey(10) & 0xFF == ord('q'):\n",
    "            break\n",
    "    cap.release()\n",
    "    cv2.destroyAllWindows()"
   ]
  },
  {
   "cell_type": "code",
   "execution_count": 7,
   "metadata": {},
   "outputs": [],
   "source": [
    "draw_styled_landmarks(frame, results)"
   ]
  },
  {
   "cell_type": "code",
   "execution_count": 8,
   "metadata": {},
   "outputs": [
    {
     "data": {
      "text/plain": [
       "<matplotlib.image.AxesImage at 0x1ca28fda860>"
      ]
     },
     "execution_count": 8,
     "metadata": {},
     "output_type": "execute_result"
    },
    {
     "data": {
      "image/png": "[encoded data removed]",
      "text/plain": [
       "<Figure size 432x288 with 1 Axes>"
      ]
     },
     "metadata": {
      "needs_background": "light"
     },
     "output_type": "display_data"
    }
   ],
   "source": [
    "plt.imshow(cv2.cvtColor(frame, cv2.COLOR_BGR2RGB))"
   ]
  },
  {
   "cell_type": "markdown",
   "metadata": {},
   "source": [
    "# 3. Extract Keypoint Values"
   ]
  },
  {
   "cell_type": "code",
   "execution_count": 9,
   "metadata": {},
   "outputs": [
    {
     "name": "stdout",
     "output_type": "stream",
     "text": [
      "21\n"
     ]
    }
   ],
   "source": [
    "if (results.left_hand_landmarks != None):\n",
    "    print(len(results.left_hand_landmarks.landmark))\n",
    "elif(results.right_hand_landmarks != None):\n",
    "    print(len(results.right_hand_landmarks.landmark))"
   ]
  },
  {
   "cell_type": "code",
   "execution_count": 10,
   "metadata": {},
   "outputs": [],
   "source": [
    "pose = []\n",
    "for res in results.pose_landmarks.landmark:\n",
    "    test = np.array([res.x, res.y, res.z, res.visibility])\n",
    "    pose.append(test)"
   ]
  },
  {
   "cell_type": "code",
   "execution_count": 11,
   "metadata": {},
   "outputs": [],
   "source": [
    "pose = np.array([[res.x, res.y, res.z, res.visibility] for res in results.pose_landmarks.landmark]).flatten() if results.pose_landmarks else np.zeros(132)\n",
    "face = np.array([[res.x, res.y, res.z] for res in results.face_landmarks.landmark]).flatten() if results.face_landmarks else np.zeros(1404)\n",
    "lh = np.array([[res.x, res.y, res.z] for res in results.left_hand_landmarks.landmark]).flatten() if results.left_hand_landmarks else np.zeros(21*3)\n",
    "rh = np.array([[res.x, res.y, res.z] for res in results.right_hand_landmarks.landmark]).flatten() if results.right_hand_landmarks else np.zeros(21*3)"
   ]
  },
  {
   "cell_type": "code",
   "execution_count": 12,
   "metadata": {},
   "outputs": [],
   "source": [
    "def extract_keypoints(results):\n",
    "    pose = np.array([[res.x, res.y, res.z, res.visibility] for res in results.pose_landmarks.landmark]).flatten() if results.pose_landmarks else np.zeros(33*4)\n",
    "    face = np.array([[res.x, res.y, res.z] for res in results.face_landmarks.landmark]).flatten() if results.face_landmarks else np.zeros(468*3)\n",
    "    lh = np.array([[res.x, res.y, res.z] for res in results.left_hand_landmarks.landmark]).flatten() if results.left_hand_landmarks else np.zeros(21*3)\n",
    "    rh = np.array([[res.x, res.y, res.z] for res in results.right_hand_landmarks.landmark]).flatten() if results.right_hand_landmarks else np.zeros(21*3)\n",
    "    return np.concatenate([pose, face, lh, rh])"
   ]
  },
  {
   "cell_type": "code",
   "execution_count": 13,
   "metadata": {},
   "outputs": [],
   "source": [
    "result_test = extract_keypoints(results)"
   ]
  },
  {
   "cell_type": "code",
   "execution_count": 14,
   "metadata": {},
   "outputs": [
    {
     "data": {
      "text/plain": [
       "array([ 0.33045992,  0.50875646, -0.77007359, ...,  0.        ,\n",
       "        0.        ,  0.        ])"
      ]
     },
     "execution_count": 14,
     "metadata": {},
     "output_type": "execute_result"
    }
   ],
   "source": [
    "result_test"
   ]
  },
  {
   "cell_type": "code",
   "execution_count": 15,
   "metadata": {},
   "outputs": [],
   "source": [
    "np.save('0', result_test)"
   ]
  },
  {
   "cell_type": "code",
   "execution_count": 22,
   "metadata": {},
   "outputs": [
    {
     "data": {
      "text/plain": [
       "array([ 0.6034317 ,  0.44217509, -1.00870204, ...,  0.4556205 ,\n",
       "        0.27668288, -0.03398165])"
      ]
     },
     "execution_count": 22,
     "metadata": {},
     "output_type": "execute_result"
    }
   ],
   "source": [
    "np.load('0.npy')"
   ]
  },
  {
   "cell_type": "markdown",
   "metadata": {},
   "source": [
    "# 4. Setup Folders for Collection"
   ]
  },
  {
   "cell_type": "code",
   "execution_count": 13,
   "metadata": {},
   "outputs": [],
   "source": [
    "# Path for exported data, numpy arrays\n",
    "DATA_PATH = os.path.join('MP_Data') \n",
    "\n",
    "# Actions that we try to detect\n",
    "actions = np.array(['again', 'ASL', 'yes'])\n",
    "\n",
    "# Thirty videos worth of data\n",
    "no_sequences =  40\n",
    "\n",
    "# Videos are going to be 30 frames in length\n",
    "sequence_length = 30\n",
    "\n",
    "# Folder start\n",
    "start_folder = 0"
   ]
  },
  {
   "cell_type": "code",
   "execution_count": 52,
   "metadata": {},
   "outputs": [],
   "source": [
    "for action in actions: \n",
    "    for sequence in range(no_sequences):\n",
    "        try: \n",
    "            os.makedirs(os.path.join(DATA_PATH, action, str(sequence)))\n",
    "        except:\n",
    "            pass"
   ]
  },
  {
   "cell_type": "markdown",
   "metadata": {},
   "source": [
    "# 5. Collect Keypoint Values for Training and Testing"
   ]
  },
  {
   "cell_type": "code",
   "execution_count": 14,
   "metadata": {},
   "outputs": [],
   "source": [
    "cap = cv2.VideoCapture(0)\n",
    "# Set mediapipe model \n",
    "with mp_holistic.Holistic(min_detection_confidence=0.5, min_tracking_confidence=0.5) as holistic:\n",
    "    \n",
    "    # NEW LOOP\n",
    "    # Loop through actions\n",
    "    for action in actions:\n",
    "        # Loop through sequences aka videos\n",
    "        for sequence in range(start_folder, start_folder+no_sequences):\n",
    "            # Loop through video length aka sequence length\n",
    "            for frame_num in range(sequence_length):\n",
    "\n",
    "                # Read feed\n",
    "                ret, frame = cap.read()\n",
    "\n",
    "                # Make detections\n",
    "                image, results = mediapipe_detection(frame, holistic)\n",
    "\n",
    "                # Draw landmarks\n",
    "                draw_styled_landmarks(image, results)\n",
    "                \n",
    "                # NEW Apply wait logic\n",
    "                if frame_num == 0: \n",
    "                    cv2.putText(image, 'STARTING COLLECTION', (120,200), \n",
    "                               cv2.FONT_HERSHEY_SIMPLEX, 1, (0,255, 0), 4, cv2.LINE_AA)\n",
    "                    cv2.putText(image, 'Frames for {} Video Number {}'.format(action, sequence), (15,12), \n",
    "                               cv2.FONT_HERSHEY_SIMPLEX, 0.7, (255, 0, 0), 1, cv2.LINE_AA)\n",
    "                    # Show to screen\n",
    "                    cv2.imshow('OpenCV Feed', image)\n",
    "                    cv2.waitKey(500)\n",
    "                else: \n",
    "                    cv2.putText(image, 'Frames for {} Video Number {}'.format(action, sequence), (15,12), \n",
    "                               cv2.FONT_HERSHEY_SIMPLEX, 0.7, (0, 0, 255), 1, cv2.LINE_AA)\n",
    "                    # Show to screen\n",
    "                    cv2.imshow('OpenCV Feed', image)\n",
    "                \n",
    "                # NEW Export keypoints\n",
    "                keypoints = extract_keypoints(results)\n",
    "                npy_path = os.path.join(DATA_PATH, action, str(sequence), str(frame_num))\n",
    "                np.save(npy_path, keypoints)\n",
    "\n",
    "                # Break gracefully\n",
    "                if cv2.waitKey(10) & 0xFF == ord('q'):\n",
    "                    break\n",
    "                    \n",
    "    cap.release()\n",
    "    cv2.destroyAllWindows()"
   ]
  },
  {
   "cell_type": "code",
   "execution_count": 1,
   "metadata": {},
   "outputs": [
    {
     "ename": "NameError",
     "evalue": "name 'cap' is not defined",
     "output_type": "error",
     "traceback": [
      "\u001b[1;31m---------------------------------------------------------------------------\u001b[0m",
      "\u001b[1;31mNameError\u001b[0m                                 Traceback (most recent call last)",
      "\u001b[1;32m<ipython-input-1-37d044a27ce5>\u001b[0m in \u001b[0;36m<module>\u001b[1;34m\u001b[0m\n\u001b[1;32m----> 1\u001b[1;33m \u001b[0mcap\u001b[0m\u001b[1;33m.\u001b[0m\u001b[0mrelease\u001b[0m\u001b[1;33m(\u001b[0m\u001b[1;33m)\u001b[0m\u001b[1;33m\u001b[0m\u001b[1;33m\u001b[0m\u001b[0m\n\u001b[0m\u001b[0;32m      2\u001b[0m \u001b[0mcv2\u001b[0m\u001b[1;33m.\u001b[0m\u001b[0mdestroyAllWindows\u001b[0m\u001b[1;33m(\u001b[0m\u001b[1;33m)\u001b[0m\u001b[1;33m\u001b[0m\u001b[1;33m\u001b[0m\u001b[0m\n",
      "\u001b[1;31mNameError\u001b[0m: name 'cap' is not defined"
     ]
    }
   ],
   "source": [
    "cap.release()\n",
    "cv2.destroyAllWindows()"
   ]
  },
  {
   "cell_type": "markdown",
   "metadata": {},
   "source": [
    "# 6. Preprocess Data and Create Labels and Features"
   ]
  },
  {
   "cell_type": "code",
   "execution_count": 16,
   "metadata": {},
   "outputs": [],
   "source": [
    "from sklearn.model_selection import train_test_split\n",
    "from tensorflow.keras.utils import to_categorical"
   ]
  },
  {
   "cell_type": "code",
   "execution_count": 21,
   "metadata": {},
   "outputs": [],
   "source": [
    "# Path for exported data, numpy arrays\n",
    "DATA_PATH = os.path.join('MP_Data') \n",
    "\n",
    "# Actions that we try to detect\n",
    "actions = np.array(['hello', 'thanks', 'iloveyou','again', 'ASL', 'yes'])\n",
    "\n",
    "# Thirty videos worth of data\n",
    "no_sequences =  40\n",
    "\n",
    "# Videos are going to be 30 frames in length\n",
    "sequence_length = 30\n",
    "\n",
    "# Folder start\n",
    "start_folder = 0"
   ]
  },
  {
   "cell_type": "code",
   "execution_count": 18,
   "metadata": {},
   "outputs": [],
   "source": [
    "label_map = {label:num for num, label in enumerate(actions)}"
   ]
  },
  {
   "cell_type": "code",
   "execution_count": 19,
   "metadata": {},
   "outputs": [
    {
     "data": {
      "text/plain": [
       "{'hello': 0, 'thanks': 1, 'iloveyou': 2, 'again': 3, 'ASL': 4, 'yes': 5}"
      ]
     },
     "execution_count": 19,
     "metadata": {},
     "output_type": "execute_result"
    }
   ],
   "source": [
    "label_map"
   ]
  },
  {
   "cell_type": "code",
   "execution_count": 22,
   "metadata": {},
   "outputs": [],
   "source": [
    "sequences, labels = [], []\n",
    "for action in actions:\n",
    "    for sequence in np.array(os.listdir(os.path.join(DATA_PATH, action))).astype(int):\n",
    "        window = []\n",
    "        for frame_num in range(sequence_length):\n",
    "            res = np.load(os.path.join(DATA_PATH, action, str(sequence), \"{}.npy\".format(frame_num)))\n",
    "            window.append(res)\n",
    "        sequences.append(window)\n",
    "        labels.append(label_map[action])"
   ]
  },
  {
   "cell_type": "code",
   "execution_count": 23,
   "metadata": {},
   "outputs": [
    {
     "data": {
      "text/plain": [
       "(240, 30, 1662)"
      ]
     },
     "execution_count": 23,
     "metadata": {},
     "output_type": "execute_result"
    }
   ],
   "source": [
    "np.array(sequences).shape"
   ]
  },
  {
   "cell_type": "code",
   "execution_count": 24,
   "metadata": {},
   "outputs": [
    {
     "data": {
      "text/plain": [
       "(240,)"
      ]
     },
     "execution_count": 24,
     "metadata": {},
     "output_type": "execute_result"
    }
   ],
   "source": [
    "np.array(labels).shape"
   ]
  },
  {
   "cell_type": "code",
   "execution_count": 25,
   "metadata": {},
   "outputs": [],
   "source": [
    "X = np.array(sequences)"
   ]
  },
  {
   "cell_type": "code",
   "execution_count": 26,
   "metadata": {},
   "outputs": [
    {
     "data": {
      "text/plain": [
       "(240, 30, 1662)"
      ]
     },
     "execution_count": 26,
     "metadata": {},
     "output_type": "execute_result"
    }
   ],
   "source": [
    "X.shape"
   ]
  },
  {
   "cell_type": "code",
   "execution_count": 27,
   "metadata": {},
   "outputs": [],
   "source": [
    "y = to_categorical(labels).astype(int)"
   ]
  },
  {
   "cell_type": "code",
   "execution_count": 28,
   "metadata": {},
   "outputs": [],
   "source": [
    "X_train, X_test, y_train, y_test = train_test_split(X, y, test_size=0.1)"
   ]
  },
  {
   "cell_type": "code",
   "execution_count": 29,
   "metadata": {},
   "outputs": [
    {
     "data": {
      "text/plain": [
       "(24, 6)"
      ]
     },
     "execution_count": 29,
     "metadata": {},
     "output_type": "execute_result"
    }
   ],
   "source": [
    "y_test.shape"
   ]
  },
  {
   "cell_type": "code",
   "execution_count": 33,
   "metadata": {},
   "outputs": [
    {
     "data": {
      "text/plain": [
       "6"
      ]
     },
     "execution_count": 33,
     "metadata": {},
     "output_type": "execute_result"
    }
   ],
   "source": [
    "actions.shape[0]"
   ]
  },
  {
   "cell_type": "markdown",
   "metadata": {},
   "source": [
    "# 7. Build and Train LSTM Neural Network"
   ]
  },
  {
   "cell_type": "code",
   "execution_count": 30,
   "metadata": {},
   "outputs": [],
   "source": [
    "import tensorflow as tf\n",
    "from tensorflow.keras.models import Sequential\n",
    "from tensorflow.keras.layers import LSTM, Dense\n",
    "from tensorflow.keras.callbacks import TensorBoard"
   ]
  },
  {
   "cell_type": "code",
   "execution_count": 31,
   "metadata": {},
   "outputs": [],
   "source": [
    "log_dir = os.path.join('Logs')\n",
    "tb_callback = TensorBoard(log_dir=log_dir)\n",
    "callback = tf.keras.callbacks.EarlyStopping(monitor='categorical_accuracy', patience=4)"
   ]
  },
  {
   "cell_type": "code",
   "execution_count": 38,
   "metadata": {},
   "outputs": [],
   "source": [
    "model = Sequential()\n",
    "model.add(LSTM(64, return_sequences=True, activation='relu', input_shape=(30,1662)))\n",
    "model.add(LSTM(128, return_sequences=True, activation='relu'))\n",
    "model.add(LSTM(64, return_sequences=False, activation='relu'))\n",
    "model.add(Dense(64, activation='relu'))\n",
    "model.add(Dense(32, activation='relu'))\n",
    "model.add(Dense(actions.shape[0], activation='softmax'))"
   ]
  },
  {
   "cell_type": "code",
   "execution_count": 39,
   "metadata": {},
   "outputs": [],
   "source": [
    "model.compile(optimizer='Adam', loss='categorical_crossentropy', metrics=['categorical_accuracy'])"
   ]
  },
  {
   "cell_type": "code",
   "execution_count": 40,
   "metadata": {
    "scrolled": true
   },
   "outputs": [
    {
     "name": "stdout",
     "output_type": "stream",
     "text": [
      "Epoch 1/180\n",
      "7/7 [==============================] - 7s 245ms/step - loss: 3.1543 - categorical_accuracy: 0.1583\n",
      "Epoch 2/180\n",
      "7/7 [==============================] - 1s 171ms/step - loss: 12.8027 - categorical_accuracy: 0.1498\n",
      "Epoch 3/180\n",
      "7/7 [==============================] - 1s 138ms/step - loss: 2.4603 - categorical_accuracy: 0.1719\n",
      "Epoch 4/180\n",
      "7/7 [==============================] - 1s 123ms/step - loss: 1.7653 - categorical_accuracy: 0.3153\n",
      "Epoch 5/180\n",
      "7/7 [==============================] - 1s 128ms/step - loss: 1.7101 - categorical_accuracy: 0.2572\n",
      "Epoch 6/180\n",
      "7/7 [==============================] - 1s 123ms/step - loss: 1.5066 - categorical_accuracy: 0.4077\n",
      "Epoch 7/180\n",
      "7/7 [==============================] - 1s 129ms/step - loss: 1.2771 - categorical_accuracy: 0.4068\n",
      "Epoch 8/180\n",
      "7/7 [==============================] - 1s 130ms/step - loss: 1.2733 - categorical_accuracy: 0.4085\n",
      "Epoch 9/180\n",
      "7/7 [==============================] - 1s 140ms/step - loss: 1.2007 - categorical_accuracy: 0.4433\n",
      "Epoch 10/180\n",
      "7/7 [==============================] - 1s 145ms/step - loss: 1.0883 - categorical_accuracy: 0.6308\n",
      "Epoch 11/180\n",
      "7/7 [==============================] - 1s 141ms/step - loss: 0.9166 - categorical_accuracy: 0.6752\n",
      "Epoch 12/180\n",
      "7/7 [==============================] - 1s 133ms/step - loss: 0.9438 - categorical_accuracy: 0.6697\n",
      "Epoch 13/180\n",
      "7/7 [==============================] - 1s 153ms/step - loss: 1.1954 - categorical_accuracy: 0.5045\n",
      "Epoch 14/180\n",
      "7/7 [==============================] - 1s 136ms/step - loss: 1.6018 - categorical_accuracy: 0.2972\n",
      "Epoch 15/180\n",
      "7/7 [==============================] - 1s 132ms/step - loss: 1.4279 - categorical_accuracy: 0.4039\n",
      "Epoch 16/180\n",
      "7/7 [==============================] - 1s 139ms/step - loss: 1.6937 - categorical_accuracy: 0.3511\n",
      "Epoch 17/180\n",
      "7/7 [==============================] - 1s 134ms/step - loss: 1.7475 - categorical_accuracy: 0.1861\n",
      "Epoch 18/180\n",
      "7/7 [==============================] - 1s 134ms/step - loss: 1.6768 - categorical_accuracy: 0.2646\n",
      "Epoch 19/180\n",
      "7/7 [==============================] - 1s 128ms/step - loss: 1.6831 - categorical_accuracy: 0.1973\n",
      "Epoch 20/180\n",
      "7/7 [==============================] - 1s 129ms/step - loss: 1.6309 - categorical_accuracy: 0.1920\n",
      "Epoch 21/180\n",
      "7/7 [==============================] - 1s 116ms/step - loss: 1.5566 - categorical_accuracy: 0.1897\n",
      "Epoch 22/180\n",
      "7/7 [==============================] - 1s 113ms/step - loss: 1.4222 - categorical_accuracy: 0.4522\n",
      "Epoch 23/180\n",
      "7/7 [==============================] - 1s 114ms/step - loss: 1.6424 - categorical_accuracy: 0.3487\n",
      "Epoch 24/180\n",
      "7/7 [==============================] - 1s 114ms/step - loss: 1.3944 - categorical_accuracy: 0.4491\n",
      "Epoch 25/180\n",
      "7/7 [==============================] - 1s 111ms/step - loss: 1.0552 - categorical_accuracy: 0.6497\n",
      "Epoch 26/180\n",
      "7/7 [==============================] - 1s 116ms/step - loss: 0.9483 - categorical_accuracy: 0.5558\n",
      "Epoch 27/180\n",
      "7/7 [==============================] - 1s 111ms/step - loss: 0.8796 - categorical_accuracy: 0.6649\n",
      "Epoch 28/180\n",
      "7/7 [==============================] - 1s 118ms/step - loss: 0.8001 - categorical_accuracy: 0.6172\n",
      "Epoch 29/180\n",
      "7/7 [==============================] - 1s 115ms/step - loss: 0.8758 - categorical_accuracy: 0.5793\n",
      "Epoch 30/180\n",
      "7/7 [==============================] - 1s 137ms/step - loss: 0.8176 - categorical_accuracy: 0.6566\n",
      "Epoch 31/180\n",
      "7/7 [==============================] - 1s 118ms/step - loss: 0.7349 - categorical_accuracy: 0.6834\n",
      "Epoch 32/180\n",
      "7/7 [==============================] - 1s 118ms/step - loss: 0.6994 - categorical_accuracy: 0.6914\n",
      "Epoch 33/180\n",
      "7/7 [==============================] - 1s 134ms/step - loss: 0.6872 - categorical_accuracy: 0.6715\n",
      "Epoch 34/180\n",
      "7/7 [==============================] - 1s 148ms/step - loss: 0.6811 - categorical_accuracy: 0.6544\n",
      "Epoch 35/180\n",
      "7/7 [==============================] - 1s 128ms/step - loss: 0.6281 - categorical_accuracy: 0.7050\n",
      "Epoch 36/180\n",
      "7/7 [==============================] - 1s 121ms/step - loss: 0.5588 - categorical_accuracy: 0.7117\n",
      "Epoch 37/180\n",
      "7/7 [==============================] - 1s 122ms/step - loss: 0.4801 - categorical_accuracy: 0.8232\n",
      "Epoch 38/180\n",
      "7/7 [==============================] - 1s 124ms/step - loss: 0.8177 - categorical_accuracy: 0.5882\n",
      "Epoch 39/180\n",
      "7/7 [==============================] - 1s 129ms/step - loss: 0.6413 - categorical_accuracy: 0.7718\n",
      "Epoch 40/180\n",
      "7/7 [==============================] - 1s 135ms/step - loss: 0.5483 - categorical_accuracy: 0.6984\n",
      "Epoch 41/180\n",
      "7/7 [==============================] - 1s 127ms/step - loss: 0.5393 - categorical_accuracy: 0.7754\n",
      "Epoch 42/180\n",
      "7/7 [==============================] - 1s 123ms/step - loss: 0.4769 - categorical_accuracy: 0.7491\n",
      "Epoch 43/180\n",
      "7/7 [==============================] - 1s 118ms/step - loss: 0.3913 - categorical_accuracy: 0.8206\n",
      "Epoch 44/180\n",
      "7/7 [==============================] - 1s 121ms/step - loss: 0.3522 - categorical_accuracy: 0.8312\n",
      "Epoch 45/180\n",
      "7/7 [==============================] - 1s 124ms/step - loss: 0.3698 - categorical_accuracy: 0.7913\n",
      "Epoch 46/180\n",
      "7/7 [==============================] - 1s 118ms/step - loss: 0.4635 - categorical_accuracy: 0.7688\n",
      "Epoch 47/180\n",
      "7/7 [==============================] - 1s 128ms/step - loss: 0.6835 - categorical_accuracy: 0.6417\n",
      "Epoch 48/180\n",
      "7/7 [==============================] - 1s 104ms/step - loss: 0.9334 - categorical_accuracy: 0.6935\n",
      "Epoch 49/180\n",
      "7/7 [==============================] - 1s 97ms/step - loss: 1.0749 - categorical_accuracy: 0.6099\n",
      "Epoch 50/180\n",
      "7/7 [==============================] - 1s 98ms/step - loss: 0.6447 - categorical_accuracy: 0.7217\n",
      "Epoch 51/180\n",
      "7/7 [==============================] - 1s 99ms/step - loss: 0.5391 - categorical_accuracy: 0.7642\n",
      "Epoch 52/180\n",
      "7/7 [==============================] - 1s 101ms/step - loss: 0.4797 - categorical_accuracy: 0.7218\n",
      "Epoch 53/180\n",
      "7/7 [==============================] - 1s 101ms/step - loss: 0.6314 - categorical_accuracy: 0.6559\n",
      "Epoch 54/180\n",
      "7/7 [==============================] - 1s 102ms/step - loss: 0.7454 - categorical_accuracy: 0.6870\n",
      "Epoch 55/180\n",
      "7/7 [==============================] - 1s 111ms/step - loss: 0.6412 - categorical_accuracy: 0.7343\n",
      "Epoch 56/180\n",
      "7/7 [==============================] - 1s 98ms/step - loss: 0.4656 - categorical_accuracy: 0.7623\n",
      "Epoch 57/180\n",
      "7/7 [==============================] - 1s 102ms/step - loss: 0.4446 - categorical_accuracy: 0.7861\n",
      "Epoch 58/180\n",
      "7/7 [==============================] - 1s 100ms/step - loss: 0.3878 - categorical_accuracy: 0.7975\n",
      "Epoch 59/180\n",
      "7/7 [==============================] - 1s 103ms/step - loss: 0.3545 - categorical_accuracy: 0.8303\n",
      "Epoch 60/180\n",
      "7/7 [==============================] - 1s 125ms/step - loss: 0.2832 - categorical_accuracy: 0.8809\n",
      "Epoch 61/180\n",
      "7/7 [==============================] - 1s 119ms/step - loss: 0.2823 - categorical_accuracy: 0.8614\n",
      "Epoch 62/180\n",
      "7/7 [==============================] - 1s 93ms/step - loss: 0.2715 - categorical_accuracy: 0.8951\n",
      "Epoch 63/180\n",
      "7/7 [==============================] - 1s 100ms/step - loss: 1.1543 - categorical_accuracy: 0.5203\n",
      "Epoch 64/180\n",
      "7/7 [==============================] - 1s 95ms/step - loss: 0.9766 - categorical_accuracy: 0.5827\n",
      "Epoch 65/180\n",
      "7/7 [==============================] - 1s 95ms/step - loss: 0.8040 - categorical_accuracy: 0.6201\n",
      "Epoch 66/180\n",
      "7/7 [==============================] - 1s 98ms/step - loss: 0.5606 - categorical_accuracy: 0.6861\n",
      "Epoch 67/180\n",
      "7/7 [==============================] - 1s 95ms/step - loss: 0.4775 - categorical_accuracy: 0.7680\n",
      "Epoch 68/180\n",
      "7/7 [==============================] - 1s 110ms/step - loss: 0.3512 - categorical_accuracy: 0.8514\n",
      "Epoch 69/180\n",
      "7/7 [==============================] - 1s 111ms/step - loss: 0.2993 - categorical_accuracy: 0.8711\n",
      "Epoch 70/180\n",
      "7/7 [==============================] - 1s 99ms/step - loss: 0.3246 - categorical_accuracy: 0.7927\n",
      "Epoch 71/180\n",
      "7/7 [==============================] - 1s 101ms/step - loss: 0.5354 - categorical_accuracy: 0.74210s - loss: 0.5605 - categorical_accura\n",
      "Epoch 72/180\n",
      "7/7 [==============================] - 1s 94ms/step - loss: 0.3946 - categorical_accuracy: 0.7858\n",
      "Epoch 73/180\n",
      "7/7 [==============================] - 1s 101ms/step - loss: 0.3351 - categorical_accuracy: 0.8274\n",
      "Epoch 74/180\n",
      "7/7 [==============================] - 1s 98ms/step - loss: 0.2668 - categorical_accuracy: 0.8966\n",
      "Epoch 75/180\n",
      "7/7 [==============================] - 1s 116ms/step - loss: 0.3650 - categorical_accuracy: 0.8091\n",
      "Epoch 76/180\n",
      "7/7 [==============================] - 1s 111ms/step - loss: 0.2787 - categorical_accuracy: 0.8667\n",
      "Epoch 77/180\n",
      "7/7 [==============================] - 1s 115ms/step - loss: 0.2375 - categorical_accuracy: 0.8689\n",
      "Epoch 78/180\n",
      "7/7 [==============================] - 1s 119ms/step - loss: 0.2603 - categorical_accuracy: 0.8860\n",
      "Epoch 79/180\n",
      "7/7 [==============================] - 1s 112ms/step - loss: 0.2073 - categorical_accuracy: 0.9088\n",
      "Epoch 80/180\n",
      "7/7 [==============================] - 1s 119ms/step - loss: 0.1905 - categorical_accuracy: 0.9048\n",
      "Epoch 81/180\n",
      "7/7 [==============================] - 1s 114ms/step - loss: 0.2938 - categorical_accuracy: 0.9058\n",
      "Epoch 82/180\n",
      "7/7 [==============================] - 1s 126ms/step - loss: 0.1838 - categorical_accuracy: 0.9427\n",
      "Epoch 83/180\n",
      "7/7 [==============================] - 1s 120ms/step - loss: 0.1852 - categorical_accuracy: 0.9241\n",
      "Epoch 84/180\n",
      "7/7 [==============================] - 1s 120ms/step - loss: 0.2992 - categorical_accuracy: 0.8714\n",
      "Epoch 85/180\n",
      "7/7 [==============================] - 1s 118ms/step - loss: 0.2145 - categorical_accuracy: 0.8956\n",
      "Epoch 86/180\n",
      "7/7 [==============================] - 1s 122ms/step - loss: 0.1960 - categorical_accuracy: 0.9055\n",
      "Epoch 87/180\n",
      "7/7 [==============================] - 1s 124ms/step - loss: 0.2316 - categorical_accuracy: 0.8904\n",
      "Epoch 88/180\n",
      "7/7 [==============================] - 1s 112ms/step - loss: 0.6650 - categorical_accuracy: 0.7596\n",
      "Epoch 89/180\n",
      "7/7 [==============================] - 1s 122ms/step - loss: 0.3475 - categorical_accuracy: 0.8395\n",
      "Epoch 90/180\n",
      "7/7 [==============================] - 1s 123ms/step - loss: 0.3028 - categorical_accuracy: 0.8650\n",
      "Epoch 91/180\n",
      "7/7 [==============================] - 1s 152ms/step - loss: 0.2241 - categorical_accuracy: 0.9137\n",
      "Epoch 92/180\n",
      "7/7 [==============================] - 1s 138ms/step - loss: 0.2078 - categorical_accuracy: 0.9270\n",
      "Epoch 93/180\n",
      "7/7 [==============================] - 1s 161ms/step - loss: 0.1526 - categorical_accuracy: 0.9323\n",
      "Epoch 94/180\n",
      "7/7 [==============================] - 1s 146ms/step - loss: 0.0907 - categorical_accuracy: 0.9896\n",
      "Epoch 95/180\n",
      "7/7 [==============================] - 1s 122ms/step - loss: 0.1030 - categorical_accuracy: 0.9586\n",
      "Epoch 96/180\n",
      "7/7 [==============================] - 1s 120ms/step - loss: 0.1889 - categorical_accuracy: 0.9281\n",
      "Epoch 97/180\n",
      "7/7 [==============================] - 1s 116ms/step - loss: 0.1912 - categorical_accuracy: 0.9067\n",
      "Epoch 98/180\n",
      "7/7 [==============================] - 1s 114ms/step - loss: 0.2405 - categorical_accuracy: 0.8858\n",
      "Epoch 99/180\n",
      "7/7 [==============================] - 1s 119ms/step - loss: 0.3183 - categorical_accuracy: 0.8920\n",
      "Epoch 100/180\n",
      "7/7 [==============================] - 1s 138ms/step - loss: 0.5003 - categorical_accuracy: 0.7860\n",
      "Epoch 101/180\n",
      "7/7 [==============================] - 1s 138ms/step - loss: 0.3788 - categorical_accuracy: 0.8161\n",
      "Epoch 102/180\n",
      "7/7 [==============================] - 1s 124ms/step - loss: 0.3714 - categorical_accuracy: 0.8468\n",
      "Epoch 103/180\n",
      "7/7 [==============================] - 1s 125ms/step - loss: 0.2097 - categorical_accuracy: 0.9264\n",
      "Epoch 104/180\n",
      "7/7 [==============================] - 1s 145ms/step - loss: 0.1807 - categorical_accuracy: 0.9350\n",
      "Epoch 105/180\n",
      "7/7 [==============================] - 1s 138ms/step - loss: 0.1374 - categorical_accuracy: 0.9563\n",
      "Epoch 106/180\n",
      "7/7 [==============================] - 1s 127ms/step - loss: 0.0871 - categorical_accuracy: 0.9653\n",
      "Epoch 107/180\n",
      "7/7 [==============================] - 1s 122ms/step - loss: 0.0760 - categorical_accuracy: 0.9743\n",
      "Epoch 108/180\n",
      "7/7 [==============================] - 1s 120ms/step - loss: 0.0616 - categorical_accuracy: 0.9877\n",
      "Epoch 109/180\n",
      "7/7 [==============================] - 1s 116ms/step - loss: 0.0881 - categorical_accuracy: 0.9670\n",
      "Epoch 110/180\n",
      "7/7 [==============================] - 1s 118ms/step - loss: 0.0511 - categorical_accuracy: 0.9904\n",
      "Epoch 111/180\n",
      "7/7 [==============================] - 1s 119ms/step - loss: 0.2597 - categorical_accuracy: 0.9278\n",
      "Epoch 112/180\n",
      "7/7 [==============================] - 1s 122ms/step - loss: 0.0592 - categorical_accuracy: 0.9880\n",
      "Epoch 113/180\n",
      "7/7 [==============================] - 1s 109ms/step - loss: 0.0752 - categorical_accuracy: 0.9548\n",
      "Epoch 114/180\n",
      "7/7 [==============================] - 1s 114ms/step - loss: 0.0334 - categorical_accuracy: 1.0000\n",
      "Epoch 115/180\n",
      "7/7 [==============================] - 1s 129ms/step - loss: 0.0493 - categorical_accuracy: 0.9844\n",
      "Epoch 116/180\n",
      "7/7 [==============================] - 1s 138ms/step - loss: 0.0273 - categorical_accuracy: 0.9965\n",
      "Epoch 117/180\n",
      "7/7 [==============================] - 1s 124ms/step - loss: 0.4486 - categorical_accuracy: 0.9006\n",
      "Epoch 118/180\n",
      "7/7 [==============================] - 1s 114ms/step - loss: 0.6583 - categorical_accuracy: 0.8053\n",
      "Epoch 119/180\n",
      "7/7 [==============================] - 1s 111ms/step - loss: 1.4627 - categorical_accuracy: 0.5152\n",
      "Epoch 120/180\n",
      "7/7 [==============================] - 1s 115ms/step - loss: 1.2199 - categorical_accuracy: 0.5032\n",
      "Epoch 121/180\n",
      "7/7 [==============================] - 1s 109ms/step - loss: 0.5776 - categorical_accuracy: 0.8695\n",
      "Epoch 122/180\n",
      "7/7 [==============================] - 1s 112ms/step - loss: 0.5131 - categorical_accuracy: 0.7852\n",
      "Epoch 123/180\n",
      "7/7 [==============================] - 1s 115ms/step - loss: 2.8600 - categorical_accuracy: 0.7105\n",
      "Epoch 124/180\n",
      "7/7 [==============================] - 1s 112ms/step - loss: 156.3565 - categorical_accuracy: 0.1657\n",
      "Epoch 125/180\n",
      "7/7 [==============================] - 1s 113ms/step - loss: 666.5548 - categorical_accuracy: 0.2069\n",
      "Epoch 126/180\n",
      "7/7 [==============================] - 1s 106ms/step - loss: 7147.9366 - categorical_accuracy: 0.1207\n",
      "Epoch 127/180\n",
      "7/7 [==============================] - 1s 105ms/step - loss: 2184.1543 - categorical_accuracy: 0.1701\n",
      "Epoch 128/180\n",
      "7/7 [==============================] - 1s 106ms/step - loss: 8689.5095 - categorical_accuracy: 0.2130\n",
      "Epoch 129/180\n",
      "7/7 [==============================] - 1s 106ms/step - loss: 1270.0076 - categorical_accuracy: 0.1612\n",
      "Epoch 130/180\n",
      "7/7 [==============================] - 1s 107ms/step - loss: 1246.4250 - categorical_accuracy: 0.1512\n",
      "Epoch 131/180\n",
      "7/7 [==============================] - 1s 106ms/step - loss: 887.4650 - categorical_accuracy: 0.2492\n",
      "Epoch 132/180\n",
      "7/7 [==============================] - 1s 105ms/step - loss: 8.3822 - categorical_accuracy: 0.1666\n",
      "Epoch 133/180\n",
      "7/7 [==============================] - 1s 104ms/step - loss: 212.4736 - categorical_accuracy: 0.1643\n",
      "Epoch 134/180\n",
      "7/7 [==============================] - 1s 113ms/step - loss: 1.7992 - categorical_accuracy: 0.1453\n",
      "Epoch 135/180\n",
      "7/7 [==============================] - 1s 133ms/step - loss: 1.7926 - categorical_accuracy: 0.2021\n",
      "Epoch 136/180\n",
      "7/7 [==============================] - 1s 129ms/step - loss: 1.7986 - categorical_accuracy: 0.1704\n",
      "Epoch 137/180\n",
      "7/7 [==============================] - 1s 138ms/step - loss: 1.7957 - categorical_accuracy: 0.1964\n",
      "Epoch 138/180\n",
      "7/7 [==============================] - 1s 117ms/step - loss: 1.7986 - categorical_accuracy: 0.1614\n",
      "Epoch 139/180\n",
      "7/7 [==============================] - 1s 107ms/step - loss: 1.7933 - categorical_accuracy: 0.1745\n",
      "Epoch 140/180\n",
      "7/7 [==============================] - 1s 107ms/step - loss: 1.7942 - categorical_accuracy: 0.1723\n",
      "Epoch 141/180\n",
      "7/7 [==============================] - 1s 110ms/step - loss: 1.7929 - categorical_accuracy: 0.1657\n",
      "Epoch 142/180\n",
      "7/7 [==============================] - 1s 114ms/step - loss: 1.7975 - categorical_accuracy: 0.1645\n",
      "Epoch 143/180\n",
      "7/7 [==============================] - 1s 108ms/step - loss: 1.7921 - categorical_accuracy: 0.1853\n",
      "Epoch 144/180\n",
      "7/7 [==============================] - 1s 107ms/step - loss: 1.7913 - categorical_accuracy: 0.1883\n",
      "Epoch 145/180\n",
      "7/7 [==============================] - 1s 120ms/step - loss: 1.8004 - categorical_accuracy: 0.1276\n",
      "Epoch 146/180\n",
      "7/7 [==============================] - 1s 120ms/step - loss: 1.7922 - categorical_accuracy: 0.1885\n",
      "Epoch 147/180\n",
      "5/7 [====================>.........] - ETA: 0s - loss: 1.7967 - categorical_accuracy: 0.1524"
     ]
    }
   ],
   "source": [
    "history = model.fit(X_train, y_train, epochs=180, callbacks=[tb_callback])"
   ]
  },
  {
   "cell_type": "code",
   "execution_count": 36,
   "metadata": {},
   "outputs": [],
   "source": [
    "del model"
   ]
  },
  {
   "cell_type": "code",
   "execution_count": 39,
   "metadata": {},
   "outputs": [
    {
     "name": "stdout",
     "output_type": "stream",
     "text": [
      "Model: \"sequential_1\"\n",
      "_________________________________________________________________\n",
      "Layer (type)                 Output Shape              Param #   \n",
      "=================================================================\n",
      "lstm_3 (LSTM)                (None, 30, 64)            442112    \n",
      "_________________________________________________________________\n",
      "lstm_4 (LSTM)                (None, 30, 128)           98816     \n",
      "_________________________________________________________________\n",
      "lstm_5 (LSTM)                (None, 64)                49408     \n",
      "_________________________________________________________________\n",
      "dense_3 (Dense)              (None, 64)                4160      \n",
      "_________________________________________________________________\n",
      "dense_4 (Dense)              (None, 32)                2080      \n",
      "_________________________________________________________________\n",
      "dense_5 (Dense)              (None, 6)                 198       \n",
      "=================================================================\n",
      "Total params: 596,774\n",
      "Trainable params: 596,774\n",
      "Non-trainable params: 0\n",
      "_________________________________________________________________\n"
     ]
    }
   ],
   "source": [
    "model.summary()"
   ]
  },
  {
   "cell_type": "code",
   "execution_count": 33,
   "metadata": {},
   "outputs": [
    {
     "name": "stdout",
     "output_type": "stream",
     "text": [
      "The tensorboard extension is already loaded. To reload it, use:\n",
      "  %reload_ext tensorboard\n"
     ]
    },
    {
     "data": {
      "text/html": [
       "\n",
       "      <iframe id=\"tensorboard-frame-e06baa84c2f25ad2\" width=\"100%\" height=\"800\" frameborder=\"0\">\n",
       "      </iframe>\n",
       "      <script>\n",
       "        (function() {\n",
       "          const frame = document.getElementById(\"tensorboard-frame-e06baa84c2f25ad2\");\n",
       "          const url = new URL(\"/\", window.location);\n",
       "          const port = 8888;\n",
       "          if (port) {\n",
       "            url.port = port;\n",
       "          }\n",
       "          frame.src = url;\n",
       "        })();\n",
       "      </script>\n",
       "    "
      ],
      "text/plain": [
       "<IPython.core.display.HTML object>"
      ]
     },
     "metadata": {},
     "output_type": "display_data"
    }
   ],
   "source": [
    "%load_ext tensorboard\n",
    "%tensorboard --logdir=Logs --host localhost --port 8888"
   ]
  },
  {
   "cell_type": "markdown",
   "metadata": {},
   "source": [
    "# 8. Make Predictions"
   ]
  },
  {
   "cell_type": "code",
   "execution_count": 52,
   "metadata": {},
   "outputs": [
    {
     "name": "stdout",
     "output_type": "stream",
     "text": [
      "[[9.90574658e-01 1.50550659e-05 8.92149471e-03 3.56062927e-04\n",
      "  1.17936586e-04 1.48966637e-05]\n",
      " [2.61792410e-09 9.99993443e-01 1.32072686e-11 4.21058445e-07\n",
      "  5.80209826e-06 2.58784155e-07]]\n"
     ]
    }
   ],
   "source": [
    "res = model.predict(X_test)\n",
    "print(res[0:2])"
   ]
  },
  {
   "cell_type": "code",
   "execution_count": 53,
   "metadata": {},
   "outputs": [
    {
     "data": {
      "text/plain": [
       "'thanks'"
      ]
     },
     "execution_count": 53,
     "metadata": {},
     "output_type": "execute_result"
    }
   ],
   "source": [
    "actions[np.argmax(res[4])]"
   ]
  },
  {
   "cell_type": "code",
   "execution_count": 54,
   "metadata": {},
   "outputs": [
    {
     "data": {
      "text/plain": [
       "'thanks'"
      ]
     },
     "execution_count": 54,
     "metadata": {},
     "output_type": "execute_result"
    }
   ],
   "source": [
    "actions[np.argmax(y_test[4])]"
   ]
  },
  {
   "cell_type": "markdown",
   "metadata": {},
   "source": [
    "# 9. Save Weights"
   ]
  },
  {
   "cell_type": "code",
   "execution_count": 43,
   "metadata": {},
   "outputs": [],
   "source": [
    "model.save('./models/srini_model_6.h5')"
   ]
  },
  {
   "cell_type": "code",
   "execution_count": 117,
   "metadata": {},
   "outputs": [],
   "source": [
    "del model"
   ]
  },
  {
   "cell_type": "code",
   "execution_count": 123,
   "metadata": {},
   "outputs": [],
   "source": [
    "model.load_weights('./models/action.h5')"
   ]
  },
  {
   "cell_type": "markdown",
   "metadata": {},
   "source": [
    "# 10. Evaluation using Confusion Matrix and Accuracy"
   ]
  },
  {
   "cell_type": "code",
   "execution_count": 61,
   "metadata": {},
   "outputs": [],
   "source": [
    "from sklearn.metrics import multilabel_confusion_matrix, accuracy_score\n",
    "import seaborn as sns\n",
    "import pandas as pd"
   ]
  },
  {
   "cell_type": "code",
   "execution_count": 79,
   "metadata": {},
   "outputs": [],
   "source": [
    "def evaluate_model(history,X_test,y_test,model):\n",
    "  \"\"\"\n",
    "    Input: \n",
    "      history - Model history variable\n",
    "      X_test - Test features\n",
    "      y_test - Target test variables\n",
    "      model - Keras Model \n",
    "\n",
    "    Output:\n",
    "      Accuracy Plot (Training + Validation)\n",
    "      Loss Plot (Training + Validation)\n",
    "      Accuracy\n",
    "  \"\"\" \n",
    "\n",
    "  ytrue = np.argmax(y_test, axis=1).tolist()\n",
    "  yhat = model.predict(X_test)\n",
    "  yhat = np.argmax(yhat, axis=1).tolist()\n",
    "  \n",
    "  fig, axs = plt.subplots(1,2, figsize=(18,5))\n",
    "  fig.tight_layout()\n",
    "\n",
    "  axs[0].plot(history.history['categorical_accuracy'])\n",
    "  #axs[0].plot(history.history['val_accuracy'])\n",
    "  axs[0].set_xlabel('Epoch')\n",
    "  axs[0].set_ylabel('Accuracy')\n",
    "  axs[0].set_title('Model - Categorical Accuracy')\n",
    "  axs[0].legend(['Training'], loc='lower right')\n",
    "\n",
    "  axs[1].plot(history.history['loss'])\n",
    "  #axs[1].plot(history.history['val_loss'])\n",
    "  axs[1].set_xlabel('Epoch')\n",
    "  axs[1].set_ylabel('Model Loss')\n",
    "  axs[1].set_title('Model - Loss')\n",
    "  axs[1].legend(['Training'], loc='upper right')\n",
    "  plt.show()\n",
    "\n",
    "  print(\"\\nAccuracy: %.2f%% \\n\" % (accuracy_score(ytrue, yhat)*100))\n",
    "\n",
    "  return ytrue, yhat\n",
    "  "
   ]
  },
  {
   "cell_type": "code",
   "execution_count": 80,
   "metadata": {},
   "outputs": [
    {
     "data": {
      "image/png": "[encoded data removed]",
      "text/plain": [
       "<Figure size 1296x360 with 2 Axes>"
      ]
     },
     "metadata": {
      "needs_background": "light"
     },
     "output_type": "display_data"
    },
    {
     "name": "stdout",
     "output_type": "stream",
     "text": [
      "\n",
      "Accuracy: 95.83% \n",
      "\n"
     ]
    }
   ],
   "source": [
    "ytrue, yhat = evaluate_model(history,X_test,y_test,model)"
   ]
  },
  {
   "cell_type": "code",
   "execution_count": 81,
   "metadata": {},
   "outputs": [],
   "source": [
    "cnf_matrix = multilabel_confusion_matrix(ytrue, yhat)"
   ]
  },
  {
   "cell_type": "code",
   "execution_count": 82,
   "metadata": {},
   "outputs": [
    {
     "name": "stdout",
     "output_type": "stream",
     "text": [
      "['hello', 'thanks', 'iloveyou', 'again', 'ASL', 'yes']\n"
     ]
    }
   ],
   "source": [
    "label_list = list(label_map.keys())\n",
    "print(label_list)"
   ]
  },
  {
   "cell_type": "code",
   "execution_count": 83,
   "metadata": {},
   "outputs": [],
   "source": [
    "def print_confusion_matrix(confusion_matrix, axes, class_label, class_names, fontsize=14):\n",
    "\n",
    "    df_cm = pd.DataFrame(confusion_matrix, index=class_names, columns=class_names)\n",
    "\n",
    "    try:\n",
    "        heatmap = sns.heatmap(df_cm, annot=True, fmt=\"d\", cbar=False, ax=axes, cmap='Blues')\n",
    "    except ValueError:\n",
    "        raise ValueError(\"Confusion matrix values must be integers.\")\n",
    "    heatmap.yaxis.set_ticklabels(heatmap.yaxis.get_ticklabels(), ha='right', fontsize=fontsize)\n",
    "    heatmap.xaxis.set_ticklabels(heatmap.xaxis.get_ticklabels(), rotation=45, ha='right', fontsize=fontsize)\n",
    "    axes.set_ylabel('True label')\n",
    "    axes.set_xlabel('Predicted label')\n",
    "    axes.set_title(\"Class: \" + class_label)"
   ]
  },
  {
   "cell_type": "code",
   "execution_count": 84,
   "metadata": {},
   "outputs": [
    {
     "data": {
      "image/png": "[encoded data removed]",
      "text/plain": [
       "<Figure size 1440x720 with 6 Axes>"
      ]
     },
     "metadata": {
      "needs_background": "light"
     },
     "output_type": "display_data"
    }
   ],
   "source": [
    "fig, ax = plt.subplots(2, 3, figsize=(20, 10))\n",
    "\n",
    "for axes, cfs_matrix, label in zip(ax.flatten(), cnf_matrix, label_list):\n",
    "    print_confusion_matrix(cfs_matrix, axes, label, [\"Y\", \"N\"])\n",
    "\n",
    "fig.tight_layout()\n",
    "plt.show()"
   ]
  },
  {
   "cell_type": "code",
   "execution_count": 71,
   "metadata": {},
   "outputs": [
    {
     "data": {
      "text/plain": [
       "0.9583333333333334"
      ]
     },
     "execution_count": 71,
     "metadata": {},
     "output_type": "execute_result"
    }
   ],
   "source": [
    "accuracy_score(ytrue, yhat)"
   ]
  },
  {
   "cell_type": "markdown",
   "metadata": {},
   "source": [
    "# 11. Test in Real Time"
   ]
  },
  {
   "cell_type": "code",
   "execution_count": 132,
   "metadata": {},
   "outputs": [],
   "source": [
    "from scipy import stats"
   ]
  },
  {
   "cell_type": "code",
   "execution_count": 85,
   "metadata": {},
   "outputs": [],
   "source": [
    "colors = [(245,117,16), (117,245,16), (16,117,245)]\n",
    "def prob_viz(res, actions, input_frame, colors):\n",
    "    output_frame = input_frame.copy()\n",
    "    for num, prob in enumerate(res):\n",
    "        cv2.rectangle(output_frame, (0,60+num*40), (int(prob*100), 90+num*40), colors[num], -1)\n",
    "        cv2.putText(output_frame, actions[num], (0, 85+num*40), cv2.FONT_HERSHEY_SIMPLEX, 1, (255,255,255), 2, cv2.LINE_AA)\n",
    "        \n",
    "    return output_frame"
   ]
  },
  {
   "cell_type": "code",
   "execution_count": null,
   "metadata": {},
   "outputs": [],
   "source": [
    "plt.figure(figsize=(18,18))\n",
    "plt.imshow(prob_viz(res, actions, image, colors))"
   ]
  },
  {
   "cell_type": "code",
   "execution_count": 86,
   "metadata": {},
   "outputs": [
    {
     "name": "stdout",
     "output_type": "stream",
     "text": [
      "<class 'mediapipe.python.solution_base.SolutionOutputs'>\n",
      "<class 'mediapipe.python.solution_base.SolutionOutputs'>\n",
      "<class 'mediapipe.python.solution_base.SolutionOutputs'>\n",
      "<class 'mediapipe.python.solution_base.SolutionOutputs'>\n",
      "<class 'mediapipe.python.solution_base.SolutionOutputs'>\n",
      "<class 'mediapipe.python.solution_base.SolutionOutputs'>\n",
      "<class 'mediapipe.python.solution_base.SolutionOutputs'>\n",
      "<class 'mediapipe.python.solution_base.SolutionOutputs'>\n",
      "<class 'mediapipe.python.solution_base.SolutionOutputs'>\n",
      "<class 'mediapipe.python.solution_base.SolutionOutputs'>\n",
      "<class 'mediapipe.python.solution_base.SolutionOutputs'>\n",
      "<class 'mediapipe.python.solution_base.SolutionOutputs'>\n",
      "<class 'mediapipe.python.solution_base.SolutionOutputs'>\n",
      "<class 'mediapipe.python.solution_base.SolutionOutputs'>\n",
      "<class 'mediapipe.python.solution_base.SolutionOutputs'>\n",
      "<class 'mediapipe.python.solution_base.SolutionOutputs'>\n",
      "<class 'mediapipe.python.solution_base.SolutionOutputs'>\n",
      "<class 'mediapipe.python.solution_base.SolutionOutputs'>\n",
      "<class 'mediapipe.python.solution_base.SolutionOutputs'>\n",
      "<class 'mediapipe.python.solution_base.SolutionOutputs'>\n",
      "<class 'mediapipe.python.solution_base.SolutionOutputs'>\n",
      "<class 'mediapipe.python.solution_base.SolutionOutputs'>\n",
      "<class 'mediapipe.python.solution_base.SolutionOutputs'>\n",
      "<class 'mediapipe.python.solution_base.SolutionOutputs'>\n",
      "<class 'mediapipe.python.solution_base.SolutionOutputs'>\n",
      "<class 'mediapipe.python.solution_base.SolutionOutputs'>\n",
      "<class 'mediapipe.python.solution_base.SolutionOutputs'>\n",
      "<class 'mediapipe.python.solution_base.SolutionOutputs'>\n",
      "<class 'mediapipe.python.solution_base.SolutionOutputs'>\n",
      "<class 'mediapipe.python.solution_base.SolutionOutputs'>\n",
      "yes\n"
     ]
    },
    {
     "ename": "IndexError",
     "evalue": "list index out of range",
     "output_type": "error",
     "traceback": [
      "\u001b[1;31m---------------------------------------------------------------------------\u001b[0m",
      "\u001b[1;31mIndexError\u001b[0m                                Traceback (most recent call last)",
      "\u001b[1;32m<ipython-input-86-5f2ad555cbdb>\u001b[0m in \u001b[0;36m<module>\u001b[1;34m\u001b[0m\n\u001b[0;32m     45\u001b[0m \u001b[1;33m\u001b[0m\u001b[0m\n\u001b[0;32m     46\u001b[0m             \u001b[1;31m# Viz probabilities\u001b[0m\u001b[1;33m\u001b[0m\u001b[1;33m\u001b[0m\u001b[1;33m\u001b[0m\u001b[0m\n\u001b[1;32m---> 47\u001b[1;33m             \u001b[0mimage\u001b[0m \u001b[1;33m=\u001b[0m \u001b[0mprob_viz\u001b[0m\u001b[1;33m(\u001b[0m\u001b[0mres\u001b[0m\u001b[1;33m,\u001b[0m \u001b[0mactions\u001b[0m\u001b[1;33m,\u001b[0m \u001b[0mimage\u001b[0m\u001b[1;33m,\u001b[0m \u001b[0mcolors\u001b[0m\u001b[1;33m)\u001b[0m\u001b[1;33m\u001b[0m\u001b[1;33m\u001b[0m\u001b[0m\n\u001b[0m\u001b[0;32m     48\u001b[0m \u001b[1;33m\u001b[0m\u001b[0m\n\u001b[0;32m     49\u001b[0m         \u001b[0mcv2\u001b[0m\u001b[1;33m.\u001b[0m\u001b[0mrectangle\u001b[0m\u001b[1;33m(\u001b[0m\u001b[0mimage\u001b[0m\u001b[1;33m,\u001b[0m \u001b[1;33m(\u001b[0m\u001b[1;36m0\u001b[0m\u001b[1;33m,\u001b[0m\u001b[1;36m0\u001b[0m\u001b[1;33m)\u001b[0m\u001b[1;33m,\u001b[0m \u001b[1;33m(\u001b[0m\u001b[1;36m640\u001b[0m\u001b[1;33m,\u001b[0m \u001b[1;36m40\u001b[0m\u001b[1;33m)\u001b[0m\u001b[1;33m,\u001b[0m \u001b[1;33m(\u001b[0m\u001b[1;36m245\u001b[0m\u001b[1;33m,\u001b[0m \u001b[1;36m117\u001b[0m\u001b[1;33m,\u001b[0m \u001b[1;36m16\u001b[0m\u001b[1;33m)\u001b[0m\u001b[1;33m,\u001b[0m \u001b[1;33m-\u001b[0m\u001b[1;36m1\u001b[0m\u001b[1;33m)\u001b[0m\u001b[1;33m\u001b[0m\u001b[1;33m\u001b[0m\u001b[0m\n",
      "\u001b[1;32m<ipython-input-85-e9bc22b256b7>\u001b[0m in \u001b[0;36mprob_viz\u001b[1;34m(res, actions, input_frame, colors)\u001b[0m\n\u001b[0;32m      3\u001b[0m     \u001b[0moutput_frame\u001b[0m \u001b[1;33m=\u001b[0m \u001b[0minput_frame\u001b[0m\u001b[1;33m.\u001b[0m\u001b[0mcopy\u001b[0m\u001b[1;33m(\u001b[0m\u001b[1;33m)\u001b[0m\u001b[1;33m\u001b[0m\u001b[1;33m\u001b[0m\u001b[0m\n\u001b[0;32m      4\u001b[0m     \u001b[1;32mfor\u001b[0m \u001b[0mnum\u001b[0m\u001b[1;33m,\u001b[0m \u001b[0mprob\u001b[0m \u001b[1;32min\u001b[0m \u001b[0menumerate\u001b[0m\u001b[1;33m(\u001b[0m\u001b[0mres\u001b[0m\u001b[1;33m)\u001b[0m\u001b[1;33m:\u001b[0m\u001b[1;33m\u001b[0m\u001b[1;33m\u001b[0m\u001b[0m\n\u001b[1;32m----> 5\u001b[1;33m         \u001b[0mcv2\u001b[0m\u001b[1;33m.\u001b[0m\u001b[0mrectangle\u001b[0m\u001b[1;33m(\u001b[0m\u001b[0moutput_frame\u001b[0m\u001b[1;33m,\u001b[0m \u001b[1;33m(\u001b[0m\u001b[1;36m0\u001b[0m\u001b[1;33m,\u001b[0m\u001b[1;36m60\u001b[0m\u001b[1;33m+\u001b[0m\u001b[0mnum\u001b[0m\u001b[1;33m*\u001b[0m\u001b[1;36m40\u001b[0m\u001b[1;33m)\u001b[0m\u001b[1;33m,\u001b[0m \u001b[1;33m(\u001b[0m\u001b[0mint\u001b[0m\u001b[1;33m(\u001b[0m\u001b[0mprob\u001b[0m\u001b[1;33m*\u001b[0m\u001b[1;36m100\u001b[0m\u001b[1;33m)\u001b[0m\u001b[1;33m,\u001b[0m \u001b[1;36m90\u001b[0m\u001b[1;33m+\u001b[0m\u001b[0mnum\u001b[0m\u001b[1;33m*\u001b[0m\u001b[1;36m40\u001b[0m\u001b[1;33m)\u001b[0m\u001b[1;33m,\u001b[0m \u001b[0mcolors\u001b[0m\u001b[1;33m[\u001b[0m\u001b[0mnum\u001b[0m\u001b[1;33m]\u001b[0m\u001b[1;33m,\u001b[0m \u001b[1;33m-\u001b[0m\u001b[1;36m1\u001b[0m\u001b[1;33m)\u001b[0m\u001b[1;33m\u001b[0m\u001b[1;33m\u001b[0m\u001b[0m\n\u001b[0m\u001b[0;32m      6\u001b[0m         \u001b[0mcv2\u001b[0m\u001b[1;33m.\u001b[0m\u001b[0mputText\u001b[0m\u001b[1;33m(\u001b[0m\u001b[0moutput_frame\u001b[0m\u001b[1;33m,\u001b[0m \u001b[0mactions\u001b[0m\u001b[1;33m[\u001b[0m\u001b[0mnum\u001b[0m\u001b[1;33m]\u001b[0m\u001b[1;33m,\u001b[0m \u001b[1;33m(\u001b[0m\u001b[1;36m0\u001b[0m\u001b[1;33m,\u001b[0m \u001b[1;36m85\u001b[0m\u001b[1;33m+\u001b[0m\u001b[0mnum\u001b[0m\u001b[1;33m*\u001b[0m\u001b[1;36m40\u001b[0m\u001b[1;33m)\u001b[0m\u001b[1;33m,\u001b[0m \u001b[0mcv2\u001b[0m\u001b[1;33m.\u001b[0m\u001b[0mFONT_HERSHEY_SIMPLEX\u001b[0m\u001b[1;33m,\u001b[0m \u001b[1;36m1\u001b[0m\u001b[1;33m,\u001b[0m \u001b[1;33m(\u001b[0m\u001b[1;36m255\u001b[0m\u001b[1;33m,\u001b[0m\u001b[1;36m255\u001b[0m\u001b[1;33m,\u001b[0m\u001b[1;36m255\u001b[0m\u001b[1;33m)\u001b[0m\u001b[1;33m,\u001b[0m \u001b[1;36m2\u001b[0m\u001b[1;33m,\u001b[0m \u001b[0mcv2\u001b[0m\u001b[1;33m.\u001b[0m\u001b[0mLINE_AA\u001b[0m\u001b[1;33m)\u001b[0m\u001b[1;33m\u001b[0m\u001b[1;33m\u001b[0m\u001b[0m\n\u001b[0;32m      7\u001b[0m \u001b[1;33m\u001b[0m\u001b[0m\n",
      "\u001b[1;31mIndexError\u001b[0m: list index out of range"
     ]
    }
   ],
   "source": [
    "# 1. New detection variables\n",
    "sequence = []\n",
    "sentence = []\n",
    "predictions = []\n",
    "threshold = 0.5\n",
    "\n",
    "cap = cv2.VideoCapture(0)\n",
    "# Set mediapipe model \n",
    "with mp_holistic.Holistic(min_detection_confidence=0.5, min_tracking_confidence=0.5) as holistic:\n",
    "    while cap.isOpened():\n",
    "\n",
    "        # Read feed\n",
    "        ret, frame = cap.read()\n",
    "\n",
    "        # Make detections\n",
    "        image, results = mediapipe_detection(frame, holistic)\n",
    "        print(results)\n",
    "        \n",
    "        # Draw landmarks\n",
    "        draw_styled_landmarks(image, results)\n",
    "        \n",
    "        # 2. Prediction logic\n",
    "        keypoints = extract_keypoints(results)\n",
    "        sequence.append(keypoints)\n",
    "        sequence = sequence[-30:]\n",
    "        \n",
    "        if len(sequence) == 30:\n",
    "            res = model.predict(np.expand_dims(sequence, axis=0))[0]\n",
    "            print(actions[np.argmax(res)])\n",
    "            predictions.append(np.argmax(res))\n",
    "            \n",
    "            \n",
    "        #3. Viz logic\n",
    "            if np.unique(predictions[-10:])[0]==np.argmax(res): \n",
    "                if res[np.argmax(res)] > threshold: \n",
    "                    \n",
    "                    if len(sentence) > 0: \n",
    "                        if actions[np.argmax(res)] != sentence[-1]:\n",
    "                            sentence.append(actions[np.argmax(res)])\n",
    "                    else:\n",
    "                        sentence.append(actions[np.argmax(res)])\n",
    "\n",
    "            if len(sentence) > 5: \n",
    "                sentence = sentence[-5:]\n",
    "\n",
    "            # Viz probabilities\n",
    "            image = prob_viz(res, actions, image, colors)\n",
    "            \n",
    "        cv2.rectangle(image, (0,0), (640, 40), (245, 117, 16), -1)\n",
    "        cv2.putText(image, ' '.join(sentence), (3,30), \n",
    "                       cv2.FONT_HERSHEY_SIMPLEX, 1, (255, 255, 255), 2, cv2.LINE_AA)\n",
    "        \n",
    "        # Show to screen\n",
    "        cv2.imshow('OpenCV Feed', image)\n",
    "\n",
    "        # Break gracefully\n",
    "        if cv2.waitKey(10) & 0xFF == ord('q'):\n",
    "            break\n",
    "    cap.release()\n",
    "    cv2.destroyAllWindows()"
   ]
  }
 ],
 "metadata": {
  "interpreter": {
   "hash": "bff6b25a10b852318755d46bc5b4c8001116bec713b71f82f988afda0a77c275"
  },
  "kernelspec": {
   "display_name": "action",
   "language": "python",
   "name": "python3"
  },
  "language_info": {
   "codemirror_mode": {
    "name": "ipython",
    "version": 3
   },
   "file_extension": ".py",
   "mimetype": "text/x-python",
   "name": "python",
   "nbconvert_exporter": "python",
   "pygments_lexer": "ipython3",
   "version": "3.6.13"
  }
 },
 "nbformat": 4,
 "nbformat_minor": 2
}
